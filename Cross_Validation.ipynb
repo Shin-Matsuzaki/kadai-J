{
 "cells": [
  {
   "cell_type": "markdown",
   "metadata": {},
   "source": [
    "# 評価プロトコルの理解と実装"
   ]
  },
  {
   "cell_type": "markdown",
   "metadata": {},
   "source": [
    "## 【課題J1】交差検証"
   ]
  },
  {
   "cell_type": "markdown",
   "metadata": {
    "ExecuteTime": {
     "end_time": "2019-10-03T04:40:42.562261Z",
     "start_time": "2019-10-03T04:40:42.552990Z"
    }
   },
   "source": [
    "### 交差検証とは？"
   ]
  },
  {
   "cell_type": "markdown",
   "metadata": {},
   "source": [
    "HoldOut：元データをTrainingDataとTestDataに分割して学習を行う手法．デメリットとして，テストデータのセットが1種類であるため，そのテストデータにフィッティングし過ぎる可能性がある  \n",
    "\n",
    "交差検証(Cross Validation)：K-分割交差検証ともいい，元データをK分割し，テストデータを入れ替えてK回の検証を行う手法．  \n",
    "- メリット：過学習を防止しつつ，比較的少ないデータ数でも精度を向上させることができる．\n",
    "- デメリット：データ数が大きくなると，負荷が上昇しマシンパワーを要する．さらに多い場合は，分割数を少なくするか，HoldOutを使用する必要がある．"
   ]
  },
  {
   "cell_type": "markdown",
   "metadata": {},
   "source": [
    "### breast_cancerのデータを使ってK-Fold CrossValidation"
   ]
  },
  {
   "cell_type": "code",
   "execution_count": 4,
   "metadata": {
    "ExecuteTime": {
     "end_time": "2019-10-03T04:43:17.302169Z",
     "start_time": "2019-10-03T04:43:17.291047Z"
    }
   },
   "outputs": [],
   "source": [
    "import warnings\n",
    "\n",
    "import matplotlib.pyplot as plt\n",
    "import numpy as np\n",
    "import pandas as pd\n",
    "import seaborn as sns\n",
    "\n",
    "warnings.filterwarnings('ignore')\n",
    "\n",
    "%matplotlib inline"
   ]
  },
  {
   "cell_type": "code",
   "execution_count": 19,
   "metadata": {
    "ExecuteTime": {
     "end_time": "2019-10-03T05:01:30.616386Z",
     "start_time": "2019-10-03T05:01:30.590506Z"
    }
   },
   "outputs": [],
   "source": [
    "# データ準備\n",
    "from sklearn.datasets import load_breast_cancer\n",
    "bcan = load_breast_cancer()\n",
    "X = bcan.data\n",
    "y = bcan.target"
   ]
  },
  {
   "cell_type": "code",
   "execution_count": 40,
   "metadata": {
    "ExecuteTime": {
     "end_time": "2019-10-03T05:21:20.634989Z",
     "start_time": "2019-10-03T05:21:20.570785Z"
    }
   },
   "outputs": [
    {
     "name": "stdout",
     "output_type": "stream",
     "text": [
      "0.956140350877193\n",
      "0.9912280701754386\n",
      "0.9122807017543859\n",
      "0.9385964912280702\n",
      "0.9734513274336283\n"
     ]
    }
   ],
   "source": [
    "# 数値モデル，予測モデルの構築\n",
    "from sklearn.model_selection import KFold\n",
    "from sklearn.linear_model import LogisticRegression\n",
    "\n",
    "lreg = LogisticRegression()\n",
    "ss = KFold(n_splits=5, random_state=0, shuffle=True)\n",
    "\n",
    "for train_index, test_index in ss.split(X, y):\n",
    "    X_train, X_test = X[train_index], X[test_index]\n",
    "    y_train, y_test = y[train_index], y[test_index]\n",
    "    lreg.fit(X_train, y_train)\n",
    "    # モデル評価\n",
    "    print(lreg.score(X_test, y_test))"
   ]
  },
  {
   "cell_type": "markdown",
   "metadata": {},
   "source": [
    "## 【課題J2】交差検証のバリエーション"
   ]
  },
  {
   "cell_type": "markdown",
   "metadata": {},
   "source": [
    "### StratifiedKFoldとは"
   ]
  },
  {
   "cell_type": "markdown",
   "metadata": {
    "ExecuteTime": {
     "end_time": "2019-10-03T05:28:04.747017Z",
     "start_time": "2019-10-03T05:28:04.736687Z"
    }
   },
   "source": [
    "Stratifiedは層状という意味があり，これを用いるとクラスの比率を維持したままデータ分割を行うことができる．  \n",
    "分布の偏りが大きいデータを用いるときに有用なKFoldである"
   ]
  },
  {
   "cell_type": "markdown",
   "metadata": {},
   "source": [
    "### J1で用意したデータを用いてStratifiedKFold"
   ]
  },
  {
   "cell_type": "code",
   "execution_count": 43,
   "metadata": {
    "ExecuteTime": {
     "end_time": "2019-10-03T05:30:15.080501Z",
     "start_time": "2019-10-03T05:30:15.007719Z"
    }
   },
   "outputs": [
    {
     "name": "stdout",
     "output_type": "stream",
     "text": [
      "0.9739130434782609\n",
      "0.9478260869565217\n",
      "0.9469026548672567\n",
      "0.9380530973451328\n",
      "0.9380530973451328\n"
     ]
    }
   ],
   "source": [
    "# 数値モデル，予測モデルの構築\n",
    "from sklearn.model_selection import StratifiedKFold\n",
    "from sklearn.linear_model import LogisticRegression\n",
    "\n",
    "lreg = LogisticRegression()\n",
    "ss = StratifiedKFold(n_splits=5, random_state=0, shuffle=True)\n",
    "\n",
    "for train_index, test_index in ss.split(X, y):\n",
    "    X_train, X_test = X[train_index], X[test_index]\n",
    "    y_train, y_test = y[train_index], y[test_index]\n",
    "    lreg.fit(X_train, y_train)\n",
    "    # モデル評価\n",
    "    print(lreg.score(X_test, y_test))"
   ]
  },
  {
   "cell_type": "markdown",
   "metadata": {},
   "source": []
  }
 ],
 "metadata": {
  "kernelspec": {
   "display_name": "Python 3",
   "language": "python",
   "name": "python3"
  },
  "language_info": {
   "codemirror_mode": {
    "name": "ipython",
    "version": 3
   },
   "file_extension": ".py",
   "mimetype": "text/x-python",
   "name": "python",
   "nbconvert_exporter": "python",
   "pygments_lexer": "ipython3",
   "version": "3.7.3"
  },
  "toc": {
   "base_numbering": 1,
   "nav_menu": {},
   "number_sections": true,
   "sideBar": true,
   "skip_h1_title": false,
   "title_cell": "Table of Contents",
   "title_sidebar": "Contents",
   "toc_cell": false,
   "toc_position": {},
   "toc_section_display": true,
   "toc_window_display": false
  }
 },
 "nbformat": 4,
 "nbformat_minor": 2
}
